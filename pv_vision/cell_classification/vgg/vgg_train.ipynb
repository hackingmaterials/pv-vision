{
 "cells": [
  {
   "cell_type": "code",
   "execution_count": 10,
   "metadata": {
    "pycharm": {
     "is_executing": false
    }
   },
   "outputs": [],
   "source": [
    "import numpy as np\n",
    "import matplotlib.pyplot as plt\n",
    "from sklearn.model_selection import train_test_split\n",
    "from imutils import paths\n",
    "import random\n",
    "import cv2\n",
    "import os\n",
    "from tensorflow.keras.applications import VGG16\n",
    "from tensorflow.keras.models import Sequential\n",
    "from tensorflow.keras.layers import Dense, Activation, Dropout, Flatten\n",
    "from tensorflow.python.keras import optimizers\n",
    "from tensorflow.keras.preprocessing.image import ImageDataGenerator\n",
    "from tensorflow.keras.optimizers import Adam\n",
    "from tensorflow.keras.preprocessing.image import img_to_array\n",
    "from tensorflow.keras.utils import to_categorical\n",
    "from tensorflow.keras.callbacks import ReduceLROnPlateau, ModelCheckpoint"
   ]
  },
  {
   "cell_type": "code",
   "execution_count": 4,
   "metadata": {},
   "outputs": [],
   "source": [
    "epoch_num = 50\n",
    "init_lr = 1e-3\n",
    "batchsize = 64\n",
    "class_num = 2\n",
    "norm_size = 64\n",
    "depth = 3\n",
    "\n",
    "label_dir = {\n",
    "    \"SN\": 0,\n",
    "    \"PN\": 0,\n",
    "    \"SC\": 1,\n",
    "    \"PC\": 1,\n",
    "}"
   ]
  },
  {
   "cell_type": "code",
   "execution_count": 12,
   "metadata": {
    "pycharm": {
     "is_executing": false,
     "name": "#%%\n"
    }
   },
   "outputs": [
    {
     "name": "stdout",
     "output_type": "stream",
     "text": [
      "Downloading data from https://github.com/fchollet/deep-learning-models/releases/download/v0.1/vgg16_weights_tf_dim_ordering_tf_kernels_notop.h5\n",
      "58892288/58889256 [==============================] - 6s 0us/step\n"
     ]
    }
   ],
   "source": [
    "conv_base = VGG16(weights='imagenet',\n",
    "                  include_top=False,\n",
    "                  input_shape=(norm_size,norm_size,depth))"
   ]
  },
  {
   "cell_type": "code",
   "execution_count": 13,
   "metadata": {
    "pycharm": {
     "is_executing": false,
     "name": "#%%\n"
    }
   },
   "outputs": [
    {
     "name": "stdout",
     "output_type": "stream",
     "text": [
      "Model: \"vgg16\"\n",
      "_________________________________________________________________\n",
      "Layer (type)                 Output Shape              Param #   \n",
      "=================================================================\n",
      "input_1 (InputLayer)         [(None, 64, 64, 3)]       0         \n",
      "_________________________________________________________________\n",
      "block1_conv1 (Conv2D)        (None, 64, 64, 64)        1792      \n",
      "_________________________________________________________________\n",
      "block1_conv2 (Conv2D)        (None, 64, 64, 64)        36928     \n",
      "_________________________________________________________________\n",
      "block1_pool (MaxPooling2D)   (None, 32, 32, 64)        0         \n",
      "_________________________________________________________________\n",
      "block2_conv1 (Conv2D)        (None, 32, 32, 128)       73856     \n",
      "_________________________________________________________________\n",
      "block2_conv2 (Conv2D)        (None, 32, 32, 128)       147584    \n",
      "_________________________________________________________________\n",
      "block2_pool (MaxPooling2D)   (None, 16, 16, 128)       0         \n",
      "_________________________________________________________________\n",
      "block3_conv1 (Conv2D)        (None, 16, 16, 256)       295168    \n",
      "_________________________________________________________________\n",
      "block3_conv2 (Conv2D)        (None, 16, 16, 256)       590080    \n",
      "_________________________________________________________________\n",
      "block3_conv3 (Conv2D)        (None, 16, 16, 256)       590080    \n",
      "_________________________________________________________________\n",
      "block3_pool (MaxPooling2D)   (None, 8, 8, 256)         0         \n",
      "_________________________________________________________________\n",
      "block4_conv1 (Conv2D)        (None, 8, 8, 512)         1180160   \n",
      "_________________________________________________________________\n",
      "block4_conv2 (Conv2D)        (None, 8, 8, 512)         2359808   \n",
      "_________________________________________________________________\n",
      "block4_conv3 (Conv2D)        (None, 8, 8, 512)         2359808   \n",
      "_________________________________________________________________\n",
      "block4_pool (MaxPooling2D)   (None, 4, 4, 512)         0         \n",
      "_________________________________________________________________\n",
      "block5_conv1 (Conv2D)        (None, 4, 4, 512)         2359808   \n",
      "_________________________________________________________________\n",
      "block5_conv2 (Conv2D)        (None, 4, 4, 512)         2359808   \n",
      "_________________________________________________________________\n",
      "block5_conv3 (Conv2D)        (None, 4, 4, 512)         2359808   \n",
      "_________________________________________________________________\n",
      "block5_pool (MaxPooling2D)   (None, 2, 2, 512)         0         \n",
      "=================================================================\n",
      "Total params: 14,714,688\n",
      "Trainable params: 14,714,688\n",
      "Non-trainable params: 0\n",
      "_________________________________________________________________\n"
     ]
    }
   ],
   "source": [
    "conv_base.summary()"
   ]
  },
  {
   "cell_type": "code",
   "execution_count": 14,
   "metadata": {
    "pycharm": {
     "is_executing": false,
     "name": "#%%\n"
    }
   },
   "outputs": [],
   "source": [
    "model = Sequential()\n",
    "conv_base.trainable = False\n",
    "model.add(conv_base)\n",
    "model.add(Flatten())\n",
    "model.add(Dense(512, activation='relu'))\n",
    "model.add(Dropout(0.5))\n",
    "model.add(Dense(class_num, activation='sigmoid'))"
   ]
  },
  {
   "cell_type": "code",
   "execution_count": 15,
   "metadata": {
    "pycharm": {
     "is_executing": false,
     "name": "#%%\n"
    }
   },
   "outputs": [
    {
     "name": "stdout",
     "output_type": "stream",
     "text": [
      "[INFO] loading images...\n"
     ]
    }
   ],
   "source": [
    "#Loading the data\n",
    "print(\"[INFO] loading images...\")\n",
    "data = []\n",
    "labels = []\n",
    "imagePaths = sorted(list(paths.list_images(\"../Images/Training_Set/\")))#args[\"dataset\"])))\n",
    "random.seed(42)\n",
    "random.shuffle(imagePaths)\n",
    "\n",
    "for imagePath in imagePaths:\n",
    "    image = cv2.imread(imagePath)\n",
    "    image = cv2.resize(image, (norm_size, norm_size))\n",
    "    image = img_to_array(image)\n",
    "    data.append(image)\n",
    "\n",
    "    label_str = imagePath.split(os.path.sep)[-2]\n",
    "\n",
    "    labels.append(label_dir[label_str])\n",
    "\n",
    "data = np.array(data, dtype=\"float\") / 255.0\n",
    "labels = np.array(labels)"
   ]
  },
  {
   "cell_type": "code",
   "execution_count": 16,
   "metadata": {
    "pycharm": {
     "is_executing": false,
     "name": "#%%\n"
    }
   },
   "outputs": [],
   "source": [
    "# partition the data into 80% training_total and 20% testing\n",
    "#partition the training_total data into 75% training data and 25% validation data \n",
    "(trainX_t, testX, trainY_t, testY) = train_test_split(data, labels, test_size=0.2, random_state=42)\n",
    "(trainX, valX, trainY, valY) = train_test_split(trainX_t, trainY_t, test_size=0.25, random_state=42)\n",
    "\n",
    "#labels = to_categorical(labels, num_classes=CLASS_NUM)\n",
    "# convert the labels from integers to vectors\n",
    "trainY = to_categorical(trainY, num_classes=class_num)\n",
    "valY = to_categorical(valY, num_classes=class_num)\n",
    "testY = to_categorical(testY, num_classes=class_num)\n"
   ]
  },
  {
   "cell_type": "code",
   "execution_count": 17,
   "metadata": {
    "pycharm": {
     "is_executing": false,
     "name": "#%%\n"
    }
   },
   "outputs": [],
   "source": [
    "# construct the image generator for data augmentation\n",
    "train_datagen = ImageDataGenerator(horizontal_flip=True, vertical_flip=True, \n",
    "                                   fill_mode=\"nearest\")\n",
    "train_generator = train_datagen.flow(trainX, trainY, batch_size=batchsize)"
   ]
  },
  {
   "cell_type": "code",
   "execution_count": 18,
   "metadata": {
    "pycharm": {
     "name": "#%%\n"
    }
   },
   "outputs": [],
   "source": [
    "val_datagen = ImageDataGenerator()\n",
    "val_generator = val_datagen.flow(valX, valY, batch_size=batchsize)"
   ]
  },
  {
   "cell_type": "code",
   "execution_count": 19,
   "metadata": {
    "pycharm": {
     "is_executing": false,
     "name": "#%%\n"
    }
   },
   "outputs": [],
   "source": [
    "opt = Adam(lr=init_lr, decay=init_lr/epoch_num)\n",
    "model.compile(loss=\"binary_crossentropy\", optimizer=opt,\n",
    "              metrics=[\"accuracy\"])"
   ]
  },
  {
   "cell_type": "code",
   "execution_count": 20,
   "metadata": {
    "pycharm": {
     "is_executing": false,
     "name": "#%%\n"
    }
   },
   "outputs": [
    {
     "name": "stdout",
     "output_type": "stream",
     "text": [
      "[INFO] training network...\n",
      "WARNING:tensorflow:`period` argument is deprecated. Please use `save_freq` to specify the frequency in number of samples seen.\n",
      "WARNING:tensorflow:From <ipython-input-20-376d0507598f>:9: Model.fit_generator (from tensorflow.python.keras.engine.training) is deprecated and will be removed in a future version.\n",
      "Instructions for updating:\n",
      "Please use Model.fit, which supports generators.\n",
      "WARNING:tensorflow:sample_weight modes were coerced from\n",
      "  ...\n",
      "    to  \n",
      "  ['...']\n",
      "WARNING:tensorflow:sample_weight modes were coerced from\n",
      "  ...\n",
      "    to  \n",
      "  ['...']\n",
      "Train for 28 steps, validate for 9 steps\n",
      "Epoch 1/50\n",
      "27/28 [===========================>..] - ETA: 0s - loss: 0.6297 - accuracy: 0.6611\n",
      "Epoch 00001: val_accuracy improved from -inf to 0.74826, saving model to 0422_binary_test1.h5\n",
      "28/28 [==============================] - 26s 931ms/step - loss: 0.6260 - accuracy: 0.6643 - val_loss: 0.5301 - val_accuracy: 0.7483\n",
      "Epoch 2/50\n",
      "27/28 [===========================>..] - ETA: 0s - loss: 0.4869 - accuracy: 0.7656\n",
      "Epoch 00002: val_accuracy improved from 0.74826 to 0.77344, saving model to 0422_binary_test1.h5\n",
      "28/28 [==============================] - 26s 919ms/step - loss: 0.4856 - accuracy: 0.7662 - val_loss: 0.4883 - val_accuracy: 0.7734\n",
      "Epoch 3/50\n",
      "27/28 [===========================>..] - ETA: 0s - loss: 0.4439 - accuracy: 0.7890\n",
      "Epoch 00003: val_accuracy did not improve from 0.77344\n",
      "28/28 [==============================] - 32s 1s/step - loss: 0.4443 - accuracy: 0.7884 - val_loss: 0.4816 - val_accuracy: 0.7717\n",
      "Epoch 4/50\n",
      "27/28 [===========================>..] - ETA: 0s - loss: 0.4482 - accuracy: 0.7855\n",
      "Epoch 00004: val_accuracy improved from 0.77344 to 0.79253, saving model to 0422_binary_test1.h5\n",
      "28/28 [==============================] - 28s 989ms/step - loss: 0.4460 - accuracy: 0.7873 - val_loss: 0.4707 - val_accuracy: 0.7925\n",
      "Epoch 5/50\n",
      "27/28 [===========================>..] - ETA: 0s - loss: 0.4303 - accuracy: 0.8021\n",
      "Epoch 00005: val_accuracy improved from 0.79253 to 0.79514, saving model to 0422_binary_test1.h5\n",
      "28/28 [==============================] - 28s 994ms/step - loss: 0.4303 - accuracy: 0.8022 - val_loss: 0.4580 - val_accuracy: 0.7951\n",
      "Epoch 6/50\n",
      "27/28 [===========================>..] - ETA: 0s - loss: 0.4200 - accuracy: 0.7963\n",
      "Epoch 00006: val_accuracy did not improve from 0.79514\n",
      "28/28 [==============================] - 28s 1s/step - loss: 0.4228 - accuracy: 0.7952 - val_loss: 0.4598 - val_accuracy: 0.7743\n",
      "Epoch 7/50\n",
      "27/28 [===========================>..] - ETA: 0s - loss: 0.4213 - accuracy: 0.7995\n",
      "Epoch 00007: val_accuracy improved from 0.79514 to 0.80729, saving model to 0422_binary_test1.h5\n",
      "28/28 [==============================] - 28s 990ms/step - loss: 0.4229 - accuracy: 0.7980 - val_loss: 0.4371 - val_accuracy: 0.8073\n",
      "Epoch 8/50\n",
      "27/28 [===========================>..] - ETA: 0s - loss: 0.4036 - accuracy: 0.8182\n",
      "Epoch 00008: val_accuracy improved from 0.80729 to 0.80903, saving model to 0422_binary_test1.h5\n",
      "28/28 [==============================] - 28s 1s/step - loss: 0.4042 - accuracy: 0.8174 - val_loss: 0.4341 - val_accuracy: 0.8090\n",
      "Epoch 9/50\n",
      "27/28 [===========================>..] - ETA: 0s - loss: 0.4026 - accuracy: 0.8071\n",
      "Epoch 00009: val_accuracy improved from 0.80903 to 0.81684, saving model to 0422_binary_test1.h5\n",
      "28/28 [==============================] - 28s 984ms/step - loss: 0.4023 - accuracy: 0.8073 - val_loss: 0.4284 - val_accuracy: 0.8168\n",
      "Epoch 10/50\n",
      "27/28 [===========================>..] - ETA: 0s - loss: 0.4092 - accuracy: 0.8225\n",
      "Epoch 00010: val_accuracy did not improve from 0.81684\n",
      "28/28 [==============================] - 28s 1s/step - loss: 0.4082 - accuracy: 0.8239 - val_loss: 0.4283 - val_accuracy: 0.8142\n",
      "Epoch 11/50\n",
      "27/28 [===========================>..] - ETA: 0s - loss: 0.3889 - accuracy: 0.8202\n",
      "Epoch 00011: val_accuracy did not improve from 0.81684\n",
      "28/28 [==============================] - 28s 987ms/step - loss: 0.3889 - accuracy: 0.8210 - val_loss: 0.4276 - val_accuracy: 0.8030\n",
      "Epoch 12/50\n",
      "27/28 [===========================>..] - ETA: 0s - loss: 0.3795 - accuracy: 0.8310\n",
      "Epoch 00012: val_accuracy improved from 0.81684 to 0.82552, saving model to 0422_binary_test1.h5\n",
      "28/28 [==============================] - 28s 995ms/step - loss: 0.3812 - accuracy: 0.8295 - val_loss: 0.4163 - val_accuracy: 0.8255\n",
      "Epoch 13/50\n",
      "27/28 [===========================>..] - ETA: 0s - loss: 0.3791 - accuracy: 0.8339\n",
      "Epoch 00013: val_accuracy did not improve from 0.82552\n",
      "28/28 [==============================] - 28s 992ms/step - loss: 0.3784 - accuracy: 0.8323 - val_loss: 0.4140 - val_accuracy: 0.8212\n",
      "Epoch 14/50\n",
      "27/28 [===========================>..] - ETA: 0s - loss: 0.3907 - accuracy: 0.8152\n",
      "Epoch 00014: val_accuracy did not improve from 0.82552\n",
      "28/28 [==============================] - 28s 992ms/step - loss: 0.3908 - accuracy: 0.8151 - val_loss: 0.4163 - val_accuracy: 0.8168\n",
      "Epoch 15/50\n",
      "27/28 [===========================>..] - ETA: 0s - loss: 0.3749 - accuracy: 0.8307\n",
      "Epoch 00015: val_accuracy did not improve from 0.82552\n",
      "28/28 [==============================] - 28s 984ms/step - loss: 0.3742 - accuracy: 0.8315 - val_loss: 0.4394 - val_accuracy: 0.7977\n",
      "Epoch 16/50\n",
      "27/28 [===========================>..] - ETA: 0s - loss: 0.3828 - accuracy: 0.8255\n",
      "Epoch 00016: val_accuracy did not improve from 0.82552\n",
      "28/28 [==============================] - 28s 1s/step - loss: 0.3832 - accuracy: 0.8247 - val_loss: 0.4218 - val_accuracy: 0.8073\n",
      "Epoch 17/50\n",
      "27/28 [===========================>..] - ETA: 0s - loss: 0.3734 - accuracy: 0.8325\n",
      "Epoch 00017: val_accuracy did not improve from 0.82552\n",
      "28/28 [==============================] - 28s 999ms/step - loss: 0.3753 - accuracy: 0.8309 - val_loss: 0.4134 - val_accuracy: 0.8220\n",
      "Epoch 18/50\n",
      "27/28 [===========================>..] - ETA: 0s - loss: 0.3670 - accuracy: 0.8400\n",
      "Epoch 00018: val_accuracy did not improve from 0.82552\n",
      "28/28 [==============================] - 28s 989ms/step - loss: 0.3666 - accuracy: 0.8402 - val_loss: 0.4022 - val_accuracy: 0.8151\n",
      "Epoch 19/50\n",
      "27/28 [===========================>..] - ETA: 0s - loss: 0.3636 - accuracy: 0.8330\n",
      "Epoch 00019: val_accuracy did not improve from 0.82552\n",
      "28/28 [==============================] - 27s 981ms/step - loss: 0.3644 - accuracy: 0.8343 - val_loss: 0.4258 - val_accuracy: 0.8160\n",
      "Epoch 20/50\n",
      "27/28 [===========================>..] - ETA: 0s - loss: 0.3710 - accuracy: 0.8287\n",
      "Epoch 00020: val_accuracy improved from 0.82552 to 0.82899, saving model to 0422_binary_test1.h5\n",
      "28/28 [==============================] - 27s 976ms/step - loss: 0.3682 - accuracy: 0.8317 - val_loss: 0.3955 - val_accuracy: 0.8290\n",
      "Epoch 21/50\n",
      "27/28 [===========================>..] - ETA: 0s - loss: 0.3507 - accuracy: 0.8471\n",
      "Epoch 00021: val_accuracy did not improve from 0.82899\n",
      "28/28 [==============================] - 27s 978ms/step - loss: 0.3557 - accuracy: 0.8430 - val_loss: 0.3949 - val_accuracy: 0.8290\n",
      "Epoch 22/50\n",
      "27/28 [===========================>..] - ETA: 0s - loss: 0.3502 - accuracy: 0.8371\n",
      "Epoch 00022: val_accuracy improved from 0.82899 to 0.83594, saving model to 0422_binary_test1.h5\n",
      "28/28 [==============================] - 27s 981ms/step - loss: 0.3472 - accuracy: 0.8382 - val_loss: 0.3863 - val_accuracy: 0.8359\n",
      "Epoch 23/50\n",
      "27/28 [===========================>..] - ETA: 0s - loss: 0.3558 - accuracy: 0.8444\n",
      "Epoch 00023: val_accuracy improved from 0.83594 to 0.84201, saving model to 0422_binary_test1.h5\n",
      "28/28 [==============================] - 27s 980ms/step - loss: 0.3625 - accuracy: 0.8402 - val_loss: 0.3934 - val_accuracy: 0.8420\n",
      "Epoch 24/50\n",
      "27/28 [===========================>..] - ETA: 0s - loss: 0.3476 - accuracy: 0.8488\n",
      "Epoch 00024: val_accuracy did not improve from 0.84201\n",
      "28/28 [==============================] - 28s 984ms/step - loss: 0.3487 - accuracy: 0.8478 - val_loss: 0.3968 - val_accuracy: 0.8420\n",
      "Epoch 25/50\n",
      "27/28 [===========================>..] - ETA: 0s - loss: 0.3415 - accuracy: 0.8526\n",
      "Epoch 00025: val_accuracy improved from 0.84201 to 0.84896, saving model to 0422_binary_test1.h5\n",
      "28/28 [==============================] - 27s 979ms/step - loss: 0.3415 - accuracy: 0.8526 - val_loss: 0.3851 - val_accuracy: 0.8490\n",
      "Epoch 26/50\n"
     ]
    },
    {
     "name": "stdout",
     "output_type": "stream",
     "text": [
      "27/28 [===========================>..] - ETA: 0s - loss: 0.3476 - accuracy: 0.8435\n",
      "Epoch 00026: val_accuracy did not improve from 0.84896\n",
      "28/28 [==============================] - 27s 968ms/step - loss: 0.3437 - accuracy: 0.8461 - val_loss: 0.4173 - val_accuracy: 0.8229\n",
      "Epoch 27/50\n",
      "27/28 [===========================>..] - ETA: 0s - loss: 0.3355 - accuracy: 0.8546\n",
      "Epoch 00027: val_accuracy did not improve from 0.84896\n",
      "28/28 [==============================] - 27s 971ms/step - loss: 0.3363 - accuracy: 0.8534 - val_loss: 0.3812 - val_accuracy: 0.8429\n",
      "Epoch 28/50\n",
      "27/28 [===========================>..] - ETA: 0s - loss: 0.3369 - accuracy: 0.8514\n",
      "Epoch 00028: val_accuracy did not improve from 0.84896\n",
      "28/28 [==============================] - 27s 959ms/step - loss: 0.3362 - accuracy: 0.8514 - val_loss: 0.3934 - val_accuracy: 0.8359\n",
      "Epoch 29/50\n",
      "27/28 [===========================>..] - ETA: 0s - loss: 0.3382 - accuracy: 0.8520\n",
      "Epoch 00029: val_accuracy did not improve from 0.84896\n",
      "28/28 [==============================] - 27s 962ms/step - loss: 0.3405 - accuracy: 0.8528 - val_loss: 0.4000 - val_accuracy: 0.8464\n",
      "Epoch 30/50\n",
      "27/28 [===========================>..] - ETA: 0s - loss: 0.3336 - accuracy: 0.8552\n",
      "Epoch 00030: val_accuracy did not improve from 0.84896\n",
      "28/28 [==============================] - 27s 952ms/step - loss: 0.3366 - accuracy: 0.8537 - val_loss: 0.4390 - val_accuracy: 0.7830\n",
      "Epoch 31/50\n",
      "27/28 [===========================>..] - ETA: 0s - loss: 0.3347 - accuracy: 0.8523\n",
      "Epoch 00031: val_accuracy did not improve from 0.84896\n",
      "28/28 [==============================] - 27s 956ms/step - loss: 0.3331 - accuracy: 0.8528 - val_loss: 0.3752 - val_accuracy: 0.8455\n",
      "Epoch 32/50\n",
      "27/28 [===========================>..] - ETA: 0s - loss: 0.3431 - accuracy: 0.8485\n",
      "Epoch 00032: val_accuracy did not improve from 0.84896\n",
      "28/28 [==============================] - 27s 968ms/step - loss: 0.3420 - accuracy: 0.8492 - val_loss: 0.3840 - val_accuracy: 0.8464\n",
      "Epoch 33/50\n",
      "27/28 [===========================>..] - ETA: 0s - loss: 0.3239 - accuracy: 0.8628\n",
      "Epoch 00033: val_accuracy did not improve from 0.84896\n",
      "28/28 [==============================] - 27s 970ms/step - loss: 0.3257 - accuracy: 0.8613 - val_loss: 0.3727 - val_accuracy: 0.8429\n",
      "Epoch 34/50\n",
      "27/28 [===========================>..] - ETA: 0s - loss: 0.3374 - accuracy: 0.8529\n",
      "Epoch 00034: val_accuracy improved from 0.84896 to 0.85069, saving model to 0422_binary_test1.h5\n",
      "28/28 [==============================] - 27s 981ms/step - loss: 0.3391 - accuracy: 0.8514 - val_loss: 0.3710 - val_accuracy: 0.8507\n",
      "Epoch 35/50\n",
      "27/28 [===========================>..] - ETA: 0s - loss: 0.3301 - accuracy: 0.8543\n",
      "Epoch 00035: val_accuracy did not improve from 0.85069\n",
      "28/28 [==============================] - 27s 956ms/step - loss: 0.3302 - accuracy: 0.8537 - val_loss: 0.3726 - val_accuracy: 0.8411\n",
      "Epoch 36/50\n",
      "27/28 [===========================>..] - ETA: 0s - loss: 0.3338 - accuracy: 0.8471\n",
      "Epoch 00036: val_accuracy did not improve from 0.85069\n",
      "28/28 [==============================] - 27s 952ms/step - loss: 0.3372 - accuracy: 0.8458 - val_loss: 0.3788 - val_accuracy: 0.8368\n",
      "Epoch 37/50\n",
      "27/28 [===========================>..] - ETA: 0s - loss: 0.3425 - accuracy: 0.8465\n",
      "Epoch 00037: val_accuracy improved from 0.85069 to 0.85330, saving model to 0422_binary_test1.h5\n",
      "28/28 [==============================] - 27s 958ms/step - loss: 0.3387 - accuracy: 0.8503 - val_loss: 0.3657 - val_accuracy: 0.8533\n",
      "Epoch 38/50\n",
      "27/28 [===========================>..] - ETA: 0s - loss: 0.3260 - accuracy: 0.8573\n",
      "Epoch 00038: val_accuracy did not improve from 0.85330\n",
      "28/28 [==============================] - 27s 956ms/step - loss: 0.3247 - accuracy: 0.8571 - val_loss: 0.3762 - val_accuracy: 0.8524\n",
      "Epoch 39/50\n",
      "27/28 [===========================>..] - ETA: 0s - loss: 0.3184 - accuracy: 0.8628\n",
      "Epoch 00039: val_accuracy did not improve from 0.85330\n",
      "28/28 [==============================] - 27s 953ms/step - loss: 0.3207 - accuracy: 0.8624 - val_loss: 0.4230 - val_accuracy: 0.8047\n",
      "Epoch 40/50\n",
      "27/28 [===========================>..] - ETA: 0s - loss: 0.3305 - accuracy: 0.8573\n",
      "Epoch 00040: val_accuracy did not improve from 0.85330\n",
      "28/28 [==============================] - 27s 949ms/step - loss: 0.3282 - accuracy: 0.8571 - val_loss: 0.3755 - val_accuracy: 0.8394\n",
      "Epoch 41/50\n",
      "27/28 [===========================>..] - ETA: 0s - loss: 0.3355 - accuracy: 0.8567\n",
      "Epoch 00041: val_accuracy did not improve from 0.85330\n",
      "28/28 [==============================] - 27s 954ms/step - loss: 0.3350 - accuracy: 0.8571 - val_loss: 0.3847 - val_accuracy: 0.8351\n",
      "Epoch 42/50\n",
      "27/28 [===========================>..] - ETA: 0s - loss: 0.3162 - accuracy: 0.8634\n",
      "Epoch 00042: val_accuracy did not improve from 0.85330\n",
      "28/28 [==============================] - 26s 938ms/step - loss: 0.3190 - accuracy: 0.8630 - val_loss: 0.4297 - val_accuracy: 0.7873\n",
      "Epoch 43/50\n",
      "27/28 [===========================>..] - ETA: 0s - loss: 0.3155 - accuracy: 0.8683\n",
      "Epoch 00043: val_accuracy did not improve from 0.85330\n",
      "28/28 [==============================] - 27s 958ms/step - loss: 0.3121 - accuracy: 0.8697 - val_loss: 0.3615 - val_accuracy: 0.8490\n",
      "Epoch 44/50\n",
      "27/28 [===========================>..] - ETA: 0s - loss: 0.3289 - accuracy: 0.8559\n",
      "Epoch 00044: val_accuracy improved from 0.85330 to 0.85503, saving model to 0422_binary_test1.h5\n",
      "28/28 [==============================] - 27s 958ms/step - loss: 0.3319 - accuracy: 0.8541 - val_loss: 0.3587 - val_accuracy: 0.8550\n",
      "Epoch 45/50\n",
      "27/28 [===========================>..] - ETA: 0s - loss: 0.3099 - accuracy: 0.8643\n",
      "Epoch 00045: val_accuracy did not improve from 0.85503\n",
      "28/28 [==============================] - 27s 949ms/step - loss: 0.3155 - accuracy: 0.8618 - val_loss: 0.3759 - val_accuracy: 0.8542\n",
      "Epoch 46/50\n",
      "27/28 [===========================>..] - ETA: 0s - loss: 0.3106 - accuracy: 0.8602\n",
      "Epoch 00046: val_accuracy did not improve from 0.85503\n",
      "28/28 [==============================] - 27s 947ms/step - loss: 0.3101 - accuracy: 0.8596 - val_loss: 0.3655 - val_accuracy: 0.8550\n",
      "Epoch 47/50\n",
      "27/28 [===========================>..] - ETA: 0s - loss: 0.3291 - accuracy: 0.8468\n",
      "Epoch 00047: val_accuracy did not improve from 0.85503\n",
      "28/28 [==============================] - 27s 950ms/step - loss: 0.3271 - accuracy: 0.8492 - val_loss: 0.3582 - val_accuracy: 0.8524\n",
      "Epoch 48/50\n",
      "27/28 [===========================>..] - ETA: 0s - loss: 0.3073 - accuracy: 0.8681\n",
      "Epoch 00048: val_accuracy improved from 0.85503 to 0.85677, saving model to 0422_binary_test1.h5\n",
      "28/28 [==============================] - 27s 952ms/step - loss: 0.3055 - accuracy: 0.8689 - val_loss: 0.3535 - val_accuracy: 0.8568\n",
      "Epoch 49/50\n",
      "27/28 [===========================>..] - ETA: 0s - loss: 0.3107 - accuracy: 0.8663\n",
      "Epoch 00049: val_accuracy did not improve from 0.85677\n",
      "28/28 [==============================] - 27s 962ms/step - loss: 0.3118 - accuracy: 0.8649 - val_loss: 0.3730 - val_accuracy: 0.8446\n",
      "Epoch 50/50\n",
      "27/28 [===========================>..] - ETA: 0s - loss: 0.3068 - accuracy: 0.8643\n",
      "Epoch 00050: val_accuracy did not improve from 0.85677\n",
      "28/28 [==============================] - 27s 951ms/step - loss: 0.3057 - accuracy: 0.8655 - val_loss: 0.3745 - val_accuracy: 0.8464\n"
     ]
    }
   ],
   "source": [
    "# train the network\n",
    "print(\"[INFO] training network...\")\n",
    "reduce_lr = ReduceLROnPlateau(monitor='val_loss', factor=0.2,\n",
    "                              patience=5, min_lr=0.001) #automatically alter the learning rate\n",
    "checkpoint = ModelCheckpoint(filepath=\"0422_binary_test1.h5\", monitor='val_accuracy', \n",
    "                             verbose=1, save_best_only=True, mode='max', period=1)\n",
    "H = model.fit_generator(train_generator, steps_per_epoch=len(trainX)//batchsize,\n",
    "              validation_data=val_generator, validation_steps=len(valX)//batchsize,\n",
    "              epochs=epoch_num, verbose=1, callbacks=[checkpoint,reduce_lr])"
   ]
  },
  {
   "cell_type": "code",
   "execution_count": 25,
   "metadata": {},
   "outputs": [
    {
     "name": "stdout",
     "output_type": "stream",
     "text": [
      "WARNING:tensorflow:sample_weight modes were coerced from\n",
      "  ...\n",
      "    to  \n",
      "  ['...']\n",
      "WARNING:tensorflow:sample_weight modes were coerced from\n",
      "  ...\n",
      "    to  \n",
      "  ['...']\n",
      "Train for 28 steps, validate for 9 steps\n",
      "Epoch 1/50\n",
      "27/28 [===========================>..] - ETA: 0s - loss: 0.3077 - accuracy: 0.8657\n",
      "Epoch 00001: val_accuracy did not improve from 0.85677\n",
      "28/28 [==============================] - 25s 888ms/step - loss: 0.3066 - accuracy: 0.8661 - val_loss: 0.3807 - val_accuracy: 0.8420\n",
      "Epoch 2/50\n",
      "27/28 [===========================>..] - ETA: 0s - loss: 0.2905 - accuracy: 0.8719\n",
      "Epoch 00002: val_accuracy did not improve from 0.85677\n",
      "28/28 [==============================] - 25s 903ms/step - loss: 0.2938 - accuracy: 0.8700 - val_loss: 0.4087 - val_accuracy: 0.8229\n",
      "Epoch 3/50\n",
      "27/28 [===========================>..] - ETA: 0s - loss: 0.3356 - accuracy: 0.8543\n",
      "Epoch 00003: val_accuracy did not improve from 0.85677\n",
      "28/28 [==============================] - 26s 918ms/step - loss: 0.3311 - accuracy: 0.8576 - val_loss: 0.3956 - val_accuracy: 0.8429\n",
      "Epoch 4/50\n",
      "27/28 [===========================>..] - ETA: 0s - loss: 0.2947 - accuracy: 0.8719\n",
      "Epoch 00004: val_accuracy did not improve from 0.85677\n",
      "28/28 [==============================] - 26s 913ms/step - loss: 0.2947 - accuracy: 0.8717 - val_loss: 0.3626 - val_accuracy: 0.8542\n",
      "Epoch 5/50\n",
      "27/28 [===========================>..] - ETA: 0s - loss: 0.3019 - accuracy: 0.8724\n",
      "Epoch 00005: val_accuracy improved from 0.85677 to 0.86024, saving model to 0422_binary_test1.h5\n",
      "28/28 [==============================] - 26s 938ms/step - loss: 0.3018 - accuracy: 0.8714 - val_loss: 0.3551 - val_accuracy: 0.8602\n",
      "Epoch 6/50\n",
      "27/28 [===========================>..] - ETA: 0s - loss: 0.3112 - accuracy: 0.8669\n",
      "Epoch 00006: val_accuracy did not improve from 0.86024\n",
      "28/28 [==============================] - 26s 934ms/step - loss: 0.3113 - accuracy: 0.8663 - val_loss: 0.4073 - val_accuracy: 0.8220\n",
      "Epoch 7/50\n",
      "27/28 [===========================>..] - ETA: 0s - loss: 0.3059 - accuracy: 0.8631\n",
      "Epoch 00007: val_accuracy did not improve from 0.86024\n",
      "28/28 [==============================] - 26s 929ms/step - loss: 0.3038 - accuracy: 0.8647 - val_loss: 0.3496 - val_accuracy: 0.8559\n",
      "Epoch 8/50\n",
      "27/28 [===========================>..] - ETA: 0s - loss: 0.3013 - accuracy: 0.8713\n",
      "Epoch 00008: val_accuracy did not improve from 0.86024\n",
      "28/28 [==============================] - 26s 925ms/step - loss: 0.3037 - accuracy: 0.8692 - val_loss: 0.3454 - val_accuracy: 0.8576\n",
      "Epoch 9/50\n",
      "27/28 [===========================>..] - ETA: 0s - loss: 0.2918 - accuracy: 0.8774\n",
      "Epoch 00009: val_accuracy did not improve from 0.86024\n",
      "28/28 [==============================] - 26s 928ms/step - loss: 0.2945 - accuracy: 0.8745 - val_loss: 0.3559 - val_accuracy: 0.8559\n",
      "Epoch 10/50\n",
      "27/28 [===========================>..] - ETA: 0s - loss: 0.2950 - accuracy: 0.8695\n",
      "Epoch 00010: val_accuracy improved from 0.86024 to 0.86111, saving model to 0422_binary_test1.h5\n",
      "28/28 [==============================] - 26s 932ms/step - loss: 0.2965 - accuracy: 0.8692 - val_loss: 0.3489 - val_accuracy: 0.8611\n",
      "Epoch 11/50\n",
      "27/28 [===========================>..] - ETA: 0s - loss: 0.2869 - accuracy: 0.8797\n",
      "Epoch 00011: val_accuracy did not improve from 0.86111\n",
      "28/28 [==============================] - 26s 921ms/step - loss: 0.2863 - accuracy: 0.8796 - val_loss: 0.3516 - val_accuracy: 0.8550\n",
      "Epoch 12/50\n",
      "27/28 [===========================>..] - ETA: 0s - loss: 0.2959 - accuracy: 0.8774\n",
      "Epoch 00012: val_accuracy improved from 0.86111 to 0.86198, saving model to 0422_binary_test1.h5\n",
      "28/28 [==============================] - 26s 928ms/step - loss: 0.2942 - accuracy: 0.8787 - val_loss: 0.3392 - val_accuracy: 0.8620\n",
      "Epoch 13/50\n",
      "27/28 [===========================>..] - ETA: 0s - loss: 0.3056 - accuracy: 0.8561\n",
      "Epoch 00013: val_accuracy did not improve from 0.86198\n",
      "28/28 [==============================] - 26s 936ms/step - loss: 0.3021 - accuracy: 0.8585 - val_loss: 0.3540 - val_accuracy: 0.8446\n",
      "Epoch 14/50\n",
      "27/28 [===========================>..] - ETA: 0s - loss: 0.2855 - accuracy: 0.8757\n",
      "Epoch 00014: val_accuracy did not improve from 0.86198\n",
      "28/28 [==============================] - 26s 935ms/step - loss: 0.2835 - accuracy: 0.8779 - val_loss: 0.3819 - val_accuracy: 0.8455\n",
      "Epoch 15/50\n",
      "27/28 [===========================>..] - ETA: 0s - loss: 0.2945 - accuracy: 0.8698\n",
      "Epoch 00015: val_accuracy did not improve from 0.86198\n",
      "28/28 [==============================] - 26s 936ms/step - loss: 0.3006 - accuracy: 0.8638 - val_loss: 0.3639 - val_accuracy: 0.8429\n",
      "Epoch 16/50\n",
      "27/28 [===========================>..] - ETA: 0s - loss: 0.2970 - accuracy: 0.8777\n",
      "Epoch 00016: val_accuracy did not improve from 0.86198\n",
      "28/28 [==============================] - 26s 940ms/step - loss: 0.2991 - accuracy: 0.8754 - val_loss: 0.3730 - val_accuracy: 0.8507\n",
      "Epoch 17/50\n",
      "27/28 [===========================>..] - ETA: 0s - loss: 0.3031 - accuracy: 0.8666\n",
      "Epoch 00017: val_accuracy did not improve from 0.86198\n",
      "28/28 [==============================] - 26s 944ms/step - loss: 0.3028 - accuracy: 0.8675 - val_loss: 0.3455 - val_accuracy: 0.8550\n",
      "Epoch 18/50\n",
      "27/28 [===========================>..] - ETA: 0s - loss: 0.2990 - accuracy: 0.8684\n",
      "Epoch 00018: val_accuracy did not improve from 0.86198\n",
      "28/28 [==============================] - 27s 970ms/step - loss: 0.2989 - accuracy: 0.8692 - val_loss: 0.3483 - val_accuracy: 0.8611\n",
      "Epoch 19/50\n",
      "27/28 [===========================>..] - ETA: 0s - loss: 0.2892 - accuracy: 0.8797\n",
      "Epoch 00019: val_accuracy did not improve from 0.86198\n",
      "28/28 [==============================] - 28s 1s/step - loss: 0.2931 - accuracy: 0.8754 - val_loss: 0.3431 - val_accuracy: 0.8602\n",
      "Epoch 20/50\n",
      "27/28 [===========================>..] - ETA: 0s - loss: 0.2825 - accuracy: 0.8754\n",
      "Epoch 00020: val_accuracy improved from 0.86198 to 0.86719, saving model to 0422_binary_test1.h5\n",
      "28/28 [==============================] - 25s 909ms/step - loss: 0.2860 - accuracy: 0.8742 - val_loss: 0.3349 - val_accuracy: 0.8672\n",
      "Epoch 21/50\n",
      "27/28 [===========================>..] - ETA: 0s - loss: 0.2944 - accuracy: 0.8722\n",
      "Epoch 00021: val_accuracy did not improve from 0.86719\n",
      "28/28 [==============================] - 26s 932ms/step - loss: 0.2951 - accuracy: 0.8706 - val_loss: 0.3614 - val_accuracy: 0.8455\n",
      "Epoch 22/50\n",
      "27/28 [===========================>..] - ETA: 0s - loss: 0.2844 - accuracy: 0.8806\n",
      "Epoch 00022: val_accuracy did not improve from 0.86719\n",
      "28/28 [==============================] - 28s 994ms/step - loss: 0.2859 - accuracy: 0.8796 - val_loss: 0.3474 - val_accuracy: 0.8594\n",
      "Epoch 23/50\n",
      "27/28 [===========================>..] - ETA: 0s - loss: 0.2946 - accuracy: 0.8701\n",
      "Epoch 00023: val_accuracy did not improve from 0.86719\n",
      "28/28 [==============================] - 25s 901ms/step - loss: 0.2947 - accuracy: 0.8700 - val_loss: 0.3351 - val_accuracy: 0.8646\n",
      "Epoch 24/50\n",
      "27/28 [===========================>..] - ETA: 0s - loss: 0.2916 - accuracy: 0.8777\n",
      "Epoch 00024: val_accuracy did not improve from 0.86719\n",
      "28/28 [==============================] - 26s 913ms/step - loss: 0.2882 - accuracy: 0.8804 - val_loss: 0.3390 - val_accuracy: 0.8611\n",
      "Epoch 25/50\n",
      "27/28 [===========================>..] - ETA: 0s - loss: 0.2849 - accuracy: 0.8759\n",
      "Epoch 00025: val_accuracy did not improve from 0.86719\n",
      "28/28 [==============================] - 25s 899ms/step - loss: 0.2844 - accuracy: 0.8756 - val_loss: 0.3361 - val_accuracy: 0.8559\n",
      "Epoch 26/50\n",
      "27/28 [===========================>..] - ETA: 0s - loss: 0.2973 - accuracy: 0.8733\n",
      "Epoch 00026: val_accuracy did not improve from 0.86719\n",
      "28/28 [==============================] - 25s 898ms/step - loss: 0.2941 - accuracy: 0.8739 - val_loss: 0.3625 - val_accuracy: 0.8576\n",
      "Epoch 27/50\n",
      "27/28 [===========================>..] - ETA: 0s - loss: 0.2940 - accuracy: 0.8747\n",
      "Epoch 00027: val_accuracy did not improve from 0.86719\n",
      "28/28 [==============================] - 25s 904ms/step - loss: 0.2953 - accuracy: 0.8739 - val_loss: 0.3611 - val_accuracy: 0.8524\n",
      "Epoch 28/50\n",
      "27/28 [===========================>..] - ETA: 0s - loss: 0.2713 - accuracy: 0.8873\n",
      "Epoch 00028: val_accuracy improved from 0.86719 to 0.86892, saving model to 0422_binary_test1.h5\n",
      "28/28 [==============================] - 25s 905ms/step - loss: 0.2741 - accuracy: 0.8852 - val_loss: 0.3334 - val_accuracy: 0.8689\n"
     ]
    },
    {
     "name": "stdout",
     "output_type": "stream",
     "text": [
      "Epoch 29/50\n",
      "27/28 [===========================>..] - ETA: 0s - loss: 0.2731 - accuracy: 0.8835\n",
      "Epoch 00029: val_accuracy did not improve from 0.86892\n",
      "28/28 [==============================] - 25s 895ms/step - loss: 0.2733 - accuracy: 0.8821 - val_loss: 0.3402 - val_accuracy: 0.8602\n",
      "Epoch 30/50\n",
      "27/28 [===========================>..] - ETA: 0s - loss: 0.2751 - accuracy: 0.8867\n",
      "Epoch 00030: val_accuracy did not improve from 0.86892\n",
      "28/28 [==============================] - 25s 905ms/step - loss: 0.2777 - accuracy: 0.8841 - val_loss: 0.3416 - val_accuracy: 0.8576\n",
      "Epoch 31/50\n",
      "27/28 [===========================>..] - ETA: 0s - loss: 0.2660 - accuracy: 0.8955\n",
      "Epoch 00031: val_accuracy did not improve from 0.86892\n",
      "28/28 [==============================] - 25s 899ms/step - loss: 0.2690 - accuracy: 0.8928 - val_loss: 0.3408 - val_accuracy: 0.8628\n",
      "Epoch 32/50\n",
      "27/28 [===========================>..] - ETA: 0s - loss: 0.2847 - accuracy: 0.8710\n",
      "Epoch 00032: val_accuracy did not improve from 0.86892\n",
      "28/28 [==============================] - 25s 901ms/step - loss: 0.2869 - accuracy: 0.8700 - val_loss: 0.3639 - val_accuracy: 0.8455\n",
      "Epoch 33/50\n",
      "27/28 [===========================>..] - ETA: 0s - loss: 0.2907 - accuracy: 0.8634\n",
      "Epoch 00033: val_accuracy improved from 0.86892 to 0.86979, saving model to 0422_binary_test1.h5\n",
      "28/28 [==============================] - 25s 903ms/step - loss: 0.2899 - accuracy: 0.8633 - val_loss: 0.3444 - val_accuracy: 0.8698\n",
      "Epoch 34/50\n",
      "27/28 [===========================>..] - ETA: 0s - loss: 0.2861 - accuracy: 0.8757\n",
      "Epoch 00034: val_accuracy did not improve from 0.86979\n",
      "28/28 [==============================] - 25s 892ms/step - loss: 0.2842 - accuracy: 0.8762 - val_loss: 0.3620 - val_accuracy: 0.8516\n",
      "Epoch 35/50\n",
      "27/28 [===========================>..] - ETA: 0s - loss: 0.2872 - accuracy: 0.8736\n",
      "Epoch 00035: val_accuracy did not improve from 0.86979\n",
      "28/28 [==============================] - 25s 903ms/step - loss: 0.2876 - accuracy: 0.8747 - val_loss: 0.3446 - val_accuracy: 0.8637\n",
      "Epoch 36/50\n",
      "27/28 [===========================>..] - ETA: 0s - loss: 0.2867 - accuracy: 0.8806\n",
      "Epoch 00036: val_accuracy did not improve from 0.86979\n",
      "28/28 [==============================] - 25s 906ms/step - loss: 0.2826 - accuracy: 0.8827 - val_loss: 0.3393 - val_accuracy: 0.8681\n",
      "Epoch 37/50\n",
      "27/28 [===========================>..] - ETA: 0s - loss: 0.2704 - accuracy: 0.8824\n",
      "Epoch 00037: val_accuracy improved from 0.86979 to 0.88281, saving model to 0422_binary_test1.h5\n",
      "28/28 [==============================] - 25s 904ms/step - loss: 0.2721 - accuracy: 0.8810 - val_loss: 0.3258 - val_accuracy: 0.8828\n",
      "Epoch 38/50\n",
      "27/28 [===========================>..] - ETA: 0s - loss: 0.2764 - accuracy: 0.8908\n",
      "Epoch 00038: val_accuracy did not improve from 0.88281\n",
      "28/28 [==============================] - 25s 901ms/step - loss: 0.2781 - accuracy: 0.8880 - val_loss: 0.3490 - val_accuracy: 0.8655\n",
      "Epoch 39/50\n",
      "27/28 [===========================>..] - ETA: 0s - loss: 0.2804 - accuracy: 0.8765\n",
      "Epoch 00039: val_accuracy did not improve from 0.88281\n",
      "28/28 [==============================] - 25s 896ms/step - loss: 0.2791 - accuracy: 0.8776 - val_loss: 0.3506 - val_accuracy: 0.8611\n",
      "Epoch 40/50\n",
      "27/28 [===========================>..] - ETA: 0s - loss: 0.2738 - accuracy: 0.8838\n",
      "Epoch 00040: val_accuracy did not improve from 0.88281\n",
      "28/28 [==============================] - 25s 893ms/step - loss: 0.2712 - accuracy: 0.8846 - val_loss: 0.3312 - val_accuracy: 0.8689\n",
      "Epoch 41/50\n",
      "27/28 [===========================>..] - ETA: 0s - loss: 0.2703 - accuracy: 0.8870\n",
      "Epoch 00041: val_accuracy did not improve from 0.88281\n",
      "28/28 [==============================] - 27s 954ms/step - loss: 0.2683 - accuracy: 0.8883 - val_loss: 0.3401 - val_accuracy: 0.8594\n",
      "Epoch 42/50\n",
      "27/28 [===========================>..] - ETA: 0s - loss: 0.2768 - accuracy: 0.8815\n",
      "Epoch 00042: val_accuracy did not improve from 0.88281\n",
      "28/28 [==============================] - 32s 1s/step - loss: 0.2792 - accuracy: 0.8818 - val_loss: 0.3750 - val_accuracy: 0.8394\n",
      "Epoch 43/50\n",
      "27/28 [===========================>..] - ETA: 0s - loss: 0.2745 - accuracy: 0.8789\n",
      "Epoch 00043: val_accuracy did not improve from 0.88281\n",
      "28/28 [==============================] - 25s 900ms/step - loss: 0.2773 - accuracy: 0.8770 - val_loss: 0.3357 - val_accuracy: 0.8576\n",
      "Epoch 44/50\n",
      "27/28 [===========================>..] - ETA: 0s - loss: 0.2890 - accuracy: 0.8666\n",
      "Epoch 00044: val_accuracy did not improve from 0.88281\n",
      "28/28 [==============================] - 25s 904ms/step - loss: 0.2869 - accuracy: 0.8669 - val_loss: 0.3566 - val_accuracy: 0.8542\n",
      "Epoch 45/50\n",
      "27/28 [===========================>..] - ETA: 0s - loss: 0.2683 - accuracy: 0.8862\n",
      "Epoch 00045: val_accuracy did not improve from 0.88281\n",
      "28/28 [==============================] - 28s 1s/step - loss: 0.2721 - accuracy: 0.8824 - val_loss: 0.3433 - val_accuracy: 0.8481\n",
      "Epoch 46/50\n",
      "27/28 [===========================>..] - ETA: 0s - loss: 0.2846 - accuracy: 0.8847\n",
      "Epoch 00046: val_accuracy did not improve from 0.88281\n",
      "28/28 [==============================] - 27s 954ms/step - loss: 0.2820 - accuracy: 0.8855 - val_loss: 0.3239 - val_accuracy: 0.8672\n",
      "Epoch 47/50\n",
      "27/28 [===========================>..] - ETA: 0s - loss: 0.2702 - accuracy: 0.8830\n",
      "Epoch 00047: val_accuracy did not improve from 0.88281\n",
      "28/28 [==============================] - 24s 856ms/step - loss: 0.2692 - accuracy: 0.8832 - val_loss: 0.3354 - val_accuracy: 0.8724\n",
      "Epoch 48/50\n",
      "27/28 [===========================>..] - ETA: 0s - loss: 0.2589 - accuracy: 0.8911\n",
      "Epoch 00048: val_accuracy did not improve from 0.88281\n",
      "28/28 [==============================] - 24s 868ms/step - loss: 0.2597 - accuracy: 0.8917 - val_loss: 0.3387 - val_accuracy: 0.8594\n",
      "Epoch 49/50\n",
      "27/28 [===========================>..] - ETA: 0s - loss: 0.2624 - accuracy: 0.8940\n",
      "Epoch 00049: val_accuracy did not improve from 0.88281\n",
      "28/28 [==============================] - 25s 885ms/step - loss: 0.2638 - accuracy: 0.8920 - val_loss: 0.3448 - val_accuracy: 0.8585\n",
      "Epoch 50/50\n",
      "27/28 [===========================>..] - ETA: 0s - loss: 0.2940 - accuracy: 0.8684\n",
      "Epoch 00050: val_accuracy did not improve from 0.88281\n",
      "28/28 [==============================] - 25s 896ms/step - loss: 0.2924 - accuracy: 0.8692 - val_loss: 0.3634 - val_accuracy: 0.8559\n"
     ]
    }
   ],
   "source": [
    "H = model.fit_generator(train_generator, steps_per_epoch=len(trainX)//batchsize,\n",
    "              validation_data=val_generator, validation_steps=len(valX)//batchsize,\n",
    "              epochs=epoch_num, verbose=1, callbacks=[checkpoint,reduce_lr])"
   ]
  },
  {
   "cell_type": "code",
   "execution_count": 27,
   "metadata": {
    "pycharm": {
     "is_executing": false,
     "name": "#%%\n"
    }
   },
   "outputs": [
    {
     "data": {
      "image/png": "[encoded data removed]",
      "text/plain": [
       "<Figure size 432x288 with 1 Axes>"
      ]
     },
     "metadata": {},
     "output_type": "display_data"
    }
   ],
   "source": [
    "# plot the training loss and accuracy\n",
    "plt.style.use(\"ggplot\")\n",
    "N = epoch_num\n",
    "plt.plot(np.arange(0, N), H.history[\"loss\"], label=\"train_loss\")\n",
    "plt.plot(np.arange(0, N), H.history[\"val_loss\"], label=\"val_loss\")\n",
    "plt.plot(np.arange(0, N), H.history[\"accuracy\"], label=\"train_acc\")\n",
    "plt.plot(np.arange(0, N), H.history[\"val_accuracy\"], label=\"val_acc\")\n",
    "plt.title(\"crack-noncrack(VGG)\")\n",
    "plt.xlabel(\"Epoch #\")\n",
    "plt.ylabel(\"Loss/Accuracy\")\n",
    "plt.legend(loc=\"lower left\")\n",
    "plt.savefig(\"0422_binary_test1.png\", dpi=600)"
   ]
  },
  {
   "cell_type": "code",
   "execution_count": null,
   "metadata": {
    "pycharm": {
     "is_executing": false,
     "name": "#%%\n"
    }
   },
   "outputs": [],
   "source": [
    "model.predict(testX)\n"
   ]
  },
  {
   "cell_type": "code",
   "execution_count": null,
   "metadata": {
    "pycharm": {
     "is_executing": false,
     "name": "#%%\n"
    }
   },
   "outputs": [],
   "source": [
    "import matplotlib.pyplot as plt\n",
    "# plot the training loss and accuracy\n",
    "plt.style.use(\"ggplot\")\n",
    "plt.figure()\n",
    "N = NUM_EPOCHS\n",
    "plt.plot(np.arange(0, N), H.history[\"loss\"], label=\"train_loss\")\n",
    "#plt.plot(np.arange(0, N), H.history[\"val_loss\"], label=\"val_loss\")\n",
    "plt.plot(np.arange(0, N), H.history[\"accuracy\"], label=\"train_acc\")\n",
    "plt.plot(np.arange(0, N), H.history[\"val_accuracy\"], label=\"val_acc\")\n",
    "plt.title(\"ResNet:Training Loss and Accuracy on crack damage level\")\n",
    "plt.xlabel(\"Epoch #\")\n",
    "plt.ylabel(\"Loss/Accuracy\")\n",
    "plt.legend(loc=\"lower left\")\n",
    "plt.savefig(\"Resnet_plot.png\")\n"
   ]
  },
  {
   "cell_type": "code",
   "execution_count": null,
   "metadata": {
    "pycharm": {
     "name": "#%%\n"
    }
   },
   "outputs": [],
   "source": [
    "\n"
   ]
  }
 ],
 "metadata": {
  "kernelspec": {
   "display_name": "opencv",
   "language": "python",
   "name": "opencv"
  },
  "language_info": {
   "codemirror_mode": {
    "name": "ipython",
    "version": 3
   },
   "file_extension": ".py",
   "mimetype": "text/x-python",
   "name": "python",
   "nbconvert_exporter": "python",
   "pygments_lexer": "ipython3",
   "version": "3.7.6"
  },
  "latex_envs": {
   "LaTeX_envs_menu_present": true,
   "autoclose": false,
   "autocomplete": true,
   "bibliofile": "biblio.bib",
   "cite_by": "apalike",
   "current_citInitial": 1,
   "eqLabelWithNumbers": true,
   "eqNumInitial": 1,
   "hotkeys": {
    "equation": "Ctrl-E",
    "itemize": "Ctrl-I"
   },
   "labels_anchors": false,
   "latex_user_defs": false,
   "report_style_numbering": false,
   "user_envs_cfg": false
  },
  "pycharm": {
   "stem_cell": {
    "cell_type": "raw",
    "metadata": {
     "collapsed": false
    },
    "source": []
   }
  }
 },
 "nbformat": 4,
 "nbformat_minor": 1
}
