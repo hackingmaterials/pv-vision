{
 "cells": [
  {
   "cell_type": "code",
   "execution_count": null,
   "metadata": {},
   "outputs": [],
   "source": [
    "import numpy as np\n",
    "import matplotlib.pyplot as plt\n",
    "import cv2 as cv\n",
    "import zlib, base64\n",
    "from scipy import signal\n",
    "import os\n",
    "import shutil\n",
    "import json\n",
    "from pathlib import Path\n",
    "from tqdm import tqdm"
   ]
  },
  {
   "source": [
    "# Do perspective transform on the original images"
   ],
   "cell_type": "markdown",
   "metadata": {}
  },
  {
   "cell_type": "code",
   "execution_count": null,
   "metadata": {},
   "outputs": [],
   "source": [
    "from segmentation_CNN import seg_cnn as seg"
   ]
  },
  {
   "cell_type": "code",
   "execution_count": null,
   "metadata": {},
   "outputs": [],
   "source": [
    "# define directories of raw images and annotations of contour masks\n",
    "\n",
    "raw_im_dir = Path('raw_img')\n",
    "masks_ann_dir = Path('masks/ann')\n",
    "\n",
    "ann_paths = os.listdir(masks_ann_dir)\n",
    "if '.DS_Store' in ann_paths:\n",
    "    ann_paths.remove('.DS_Store')"
   ]
  },
  {
   "source": [
    "## operation on one example"
   ],
   "cell_type": "markdown",
   "metadata": {}
  },
  {
   "cell_type": "code",
   "execution_count": null,
   "metadata": {},
   "outputs": [],
   "source": [
    "# show raw image\n",
    "\n",
    "path = ann_paths[1]\n",
    "name = path.split('.')[0]\n",
    "\n",
    "image = cv.imread(str(raw_im_dir/(name+'.png')))\n",
    "plt.imshow(cv.cvtColor(image, cv.COLOR_BGR2RGB))"
   ]
  },
  {
   "cell_type": "code",
   "execution_count": null,
   "metadata": {},
   "outputs": [],
   "source": [
    "# show mask\n",
    "\n",
    "mask, mask_center = seg.load_mask(transform_ann_dir/path, image)\n",
    "plt.imshow(mask, \"gray\")"
   ]
  },
  {
   "cell_type": "code",
   "execution_count": null,
   "metadata": {},
   "outputs": [],
   "source": [
    "# corners detected\n",
    "\n",
    "corners = seg.find_module_corner(mask,mask_center,method=1,displace=3, corner_center=True, center_displace=70)\n",
    "corners"
   ]
  },
  {
   "cell_type": "code",
   "execution_count": null,
   "metadata": {},
   "outputs": [],
   "source": [
    "# show corners on the raw image\n",
    "\n",
    "xs, ys = list(zip(*corners))\n",
    "plt.imshow(cv.cvtColor(image, cv.COLOR_BGR2RGB))\n",
    "plt.scatter(xs,ys)"
   ]
  },
  {
   "cell_type": "code",
   "execution_count": null,
   "metadata": {},
   "outputs": [],
   "source": [
    "# do perspective transform\n",
    "\n",
    "wrap = seg.perspective_transform(image, corners, 600, 300)\n",
    "plt.imshow(cv.cvtColor(wrap, cv.COLOR_BGR2RGB))"
   ]
  },
  {
   "cell_type": "markdown",
   "metadata": {},
   "source": [
    "## operation on all the solar modules"
   ]
  },
  {
   "cell_type": "code",
   "execution_count": null,
   "metadata": {},
   "outputs": [],
   "source": [
    "# define directories to store the output and failed images\n",
    "\n",
    "store_dir = Path('./perspective_transformed')\n",
    "err_dir = Path('./errors')"
   ]
  },
  {
   "cell_type": "code",
   "execution_count": null,
   "metadata": {
    "tags": []
   },
   "outputs": [],
   "source": [
    "# output the transformed images. The code here will try different methods \n",
    "# in \"seg.find_module_corner\" and output the optimal result.\n",
    "\n",
    "N = 0\n",
    "N_err = 0\n",
    "for file in tqdm(ann_paths):\n",
    "    N += 1\n",
    "    try:\n",
    "        name = file.split('.')[0]\n",
    "        path = transform_ann_dir/file\n",
    "        image = cv.imread(str(raw_im_dir/(name+'.png')))\n",
    "\n",
    "        mask, mask_center = seg.load_mask(path, image)\n",
    "        corners = seg.find_module_corner(mask, mask_center, method=0,displace=3)\n",
    "        wrap = seg.perspective_transform(image, corners, 600, 300)\n",
    "        peak_x, peak_y = seg.find_cell_corner(wrap)\n",
    "        if len(peak_x) > 12 and len(peak_y) > 5:\n",
    "            cv.imwrite(str(store_dir/(name+'.png')), wrap)\n",
    "        else:\n",
    "            #print(name + \" trying method2\")\n",
    "            corners = seg.find_module_corner(mask, mask_center, method=1,displace=3)\n",
    "            wrap = seg.perspective_transform(image, corners, 600, 300)\n",
    "            peak_x, peak_y = seg.find_cell_corner(wrap)\n",
    "            if len(peak_x) > 12 and len(peak_y) > 5:\n",
    "                cv.imwrite(str(store_dir/(name+'.png')), wrap)\n",
    "            else: \n",
    "                corners = seg.find_module_corner(mask, mask_center, method=0,displace=3,corner_center=True,center_displace=50)\n",
    "                wrap = seg.perspective_transform(image, corners, 600, 300)\n",
    "                peak_x, peak_y = seg.find_cell_corner(wrap)\n",
    "                if len(peak_x) > 12 and len(peak_y) > 5:\n",
    "                    cv.imwrite(str(store_dir/(name+'.png')), wrap)\n",
    "                else:\n",
    "                    corners = seg.find_module_corner(mask, mask_center, method=1,displace=3,corner_center=True,center_displace=50)\n",
    "                    wrap = seg.perspective_transform(image, corners, 600, 300)\n",
    "                    peak_x, peak_y = seg.find_cell_corner(wrap)\n",
    "                    if len(peak_x) > 12 and len(peak_y) > 5:\n",
    "                        cv.imwrite(str(store_dir/(name+'.png')), wrap)\n",
    "                    else:\n",
    "                        N_err+=1\n",
    "                        #print(name+\" seg error\")\n",
    "                        #with open(\"error2.csv\",'a') as f:\n",
    "                        #    f.write(name+'.png\\n')\n",
    "                        shutil.copyfile(raw_im_dir/(name+'.png'), err_dir/(name+'.png'))\n",
    "        \n",
    "    except:\n",
    "            #print(name+\" run error\")\n",
    "        N_err += 1\n",
    "        #with open(\"error2.csv\",'a') as f:\n",
    "        #    f.write(name+'.png\\n')\n",
    "        shutil.copyfile(raw_im_dir/(name+'.png'), err_dir/(name+'.png'))\n",
    "\n",
    "print(\"total images: \"+str(N))\n",
    "print(\"failed images:\"+ str(N_err))\n",
    "print(\"accuracy: \" + str(1-N_err/N))"
   ]
  },
  {
   "source": [
    "# Classify the modules with object detection"
   ],
   "cell_type": "markdown",
   "metadata": {}
  },
  {
   "cell_type": "code",
   "execution_count": null,
   "metadata": {},
   "outputs": [],
   "source": [
    "from defective_cell_detection.module_classify import count_defects\n",
    "from defective_cell_detection.visualize import draw_rec"
   ]
  },
  {
   "cell_type": "code",
   "execution_count": null,
   "metadata": {},
   "outputs": [],
   "source": [
    "# define the directories of transformed images and annotations from object detection\n",
    "\n",
    "detection_ann_dir = Path('detection/ann')\n",
    "transformed_im_dir = Path('./perspective_transformed')\n",
    "\n",
    "detect_ann_paths = os.listdir(detection_ann_dir)"
   ]
  },
  {
   "cell_type": "code",
   "execution_count": null,
   "metadata": {},
   "outputs": [],
   "source": [
    "# define the colr of boxes you want to put on the defective cells\n",
    "\n",
    "color = {\n",
    "    'crack_bbox_yolo': (60, 124, 90), # green\n",
    "    'solder_bbox_yolo': (190, 112, 78), # blue\n",
    "    'oxygen_bbox_yolo': (40, 64, 183), # red\n",
    "    'intra_bbox_yolo': (103, 52, 154) # purple\n",
    "}"
   ]
  },
  {
   "cell_type": "code",
   "execution_count": null,
   "metadata": {},
   "outputs": [],
   "source": [
    "# define the folder to store the visualized images\n",
    "\n",
    "folder = Path('processed_images')\n",
    "for subfolder in ['category1', 'category2', 'category3']:\n",
    "    os.makedirs(folder/subfolder, exist_ok=True)"
   ]
  },
  {
   "cell_type": "code",
   "execution_count": null,
   "metadata": {},
   "outputs": [],
   "source": [
    "# output the classification result and visualized soar modules\n",
    "\n",
    "for file in tqdm(detect_ann_paths):\n",
    "    \n",
    "    name = file.split('.')[0]\n",
    "    image = cv.imread(str(transformed_im_dir/(name+'.png')))\n",
    "\n",
    "    crack, oxygen, intra, solder = count_defects(detection_ann_dir/file)\n",
    "    \n",
    "    draw_rec(detection_ann_dir/file, image, color, 3)\n",
    "\n",
    "# the criterion of classifying solar modules can be altered here\n",
    "\n",
    "    if crack <= 1 and oxygen == 0 and solder == 0 and intra == 0:\n",
    "        with open(\"classification.csv\",'a') as f2:\n",
    "            f2.write(name+',category1\\n')\n",
    "        \n",
    "        cv.imwrite('./processed_images/category1/'+name+'.png', image)\n",
    "\n",
    "    elif (crack > 1 or oxygen > 0 or solder > 0) and intra == 0:\n",
    "        with open(\"classification.csv\",'a') as f2:\n",
    "            f2.write(name+',category2\\n')\n",
    "\n",
    "        cv.imwrite('./processed_images/category2/'+name+'.png', image)\n",
    "\n",
    "    elif intra > 0:\n",
    "        with open(\"classification.csv\",'a') as f2:\n",
    "            f2.write(name+',category3\\n')\n",
    "        \n",
    "        cv.imwrite('./processed_images/category3/'+name+'.png', image)"
   ]
  },
  {
   "cell_type": "code",
   "execution_count": null,
   "metadata": {},
   "outputs": [],
   "source": []
  }
 ],
 "metadata": {
  "kernelspec": {
   "name": "pytorch_env",
   "display_name": "Python 3.8.2 64-bit ('pytorch_env': conda)"
  },
  "language_info": {
   "codemirror_mode": {
    "name": "ipython",
    "version": 3
   },
   "file_extension": ".py",
   "mimetype": "text/x-python",
   "name": "python",
   "nbconvert_exporter": "python",
   "pygments_lexer": "ipython3",
   "version": "3.8.2"
  },
  "latex_envs": {
   "LaTeX_envs_menu_present": true,
   "autoclose": false,
   "autocomplete": true,
   "bibliofile": "biblio.bib",
   "cite_by": "apalike",
   "current_citInitial": 1,
   "eqLabelWithNumbers": true,
   "eqNumInitial": 1,
   "hotkeys": {
    "equation": "Ctrl-E",
    "itemize": "Ctrl-I"
   },
   "labels_anchors": false,
   "latex_user_defs": false,
   "report_style_numbering": false,
   "user_envs_cfg": false
  }
 },
 "nbformat": 4,
 "nbformat_minor": 2
}