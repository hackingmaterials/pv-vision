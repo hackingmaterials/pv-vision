{
 "cells": [
  {
   "cell_type": "code",
   "execution_count": 1,
   "metadata": {},
   "outputs": [],
   "source": [
    "import json\n",
    "import numpy as np\n",
    "import matplotlib.pyplot as plt\n",
    "import os\n",
    "import shutil\n"
   ]
  },
  {
   "source": [
    "# Explanation on codes"
   ],
   "cell_type": "markdown",
   "metadata": {}
  },
  {
   "source": [
    "## load the prediction file"
   ],
   "cell_type": "markdown",
   "metadata": {}
  },
  {
   "cell_type": "code",
   "execution_count": 9,
   "metadata": {},
   "outputs": [
    {
     "output_type": "execute_result",
     "data": {
      "text/plain": [
       "'2-9-A8CB1-35-09_19_10_34_05.png.json'"
      ]
     },
     "metadata": {},
     "execution_count": 9
    }
   ],
   "source": [
    "# the predicted annotations are stored in 'ann/'\n",
    "paths = os.listdir(\"ann/\")"
   ]
  },
  {
   "cell_type": "code",
   "execution_count": 4,
   "metadata": {},
   "outputs": [],
   "source": [
    "with open(\"ann/\"+paths[4000], 'r') as f:\n",
    "    data = json.load(f)"
   ]
  },
  {
   "cell_type": "code",
   "execution_count": 8,
   "metadata": {},
   "outputs": [
    {
     "output_type": "execute_result",
     "data": {
      "text/plain": [
       "'crack_bbox_yolo'"
      ]
     },
     "metadata": {},
     "execution_count": 8
    }
   ],
   "source": [
    "# we can see the annotations in one image from list 'data[\"objects\"]'\n",
    "data[\"objects\"][0][\"classTitle\"]"
   ]
  },
  {
   "source": [
    "## classify the module based on the number of defective cells"
   ],
   "cell_type": "markdown",
   "metadata": {}
  },
  {
   "cell_type": "code",
   "execution_count": 94,
   "metadata": {},
   "outputs": [],
   "source": [
    "crack = 0\n",
    "oxygen = 0\n",
    "intra = 0\n",
    "    \n",
    "for defect in data[\"objects\"]:\n",
    "    if defect[\"classTitle\"] == \"crack_bbox_yolo\":\n",
    "        crack += 1\n",
    "    elif defect[\"classTitle\"] == \"oxygen_bbox_yolo\":\n",
    "        oxygen += 1\n",
    "    elif defect[\"classTitle\"] == \"intra_bbox_yolo\":\n",
    "        intra += 1"
   ]
  },
  {
   "cell_type": "code",
   "execution_count": 82,
   "metadata": {},
   "outputs": [],
   "source": [
    "crack, oxygen, intra = 2,0,0"
   ]
  },
  {
   "cell_type": "code",
   "execution_count": 95,
   "metadata": {},
   "outputs": [
    {
     "data": {
      "text/plain": [
       "False"
      ]
     },
     "execution_count": 95,
     "metadata": {},
     "output_type": "execute_result"
    }
   ],
   "source": [
    "crack <= 1 and oxygen == 0 and intra == 0"
   ]
  },
  {
   "cell_type": "code",
   "execution_count": 96,
   "metadata": {},
   "outputs": [
    {
     "data": {
      "text/plain": [
       "False"
      ]
     },
     "execution_count": 96,
     "metadata": {},
     "output_type": "execute_result"
    }
   ],
   "source": [
    "(crack > 1 or oxygen > 0) and intra == 0"
   ]
  },
  {
   "cell_type": "code",
   "execution_count": 97,
   "metadata": {},
   "outputs": [
    {
     "data": {
      "text/plain": [
       "True"
      ]
     },
     "execution_count": 97,
     "metadata": {},
     "output_type": "execute_result"
    }
   ],
   "source": [
    "intra > 0"
   ]
  },
  {
   "source": [
    "## copy images to different folders with corresponding categories"
   ],
   "cell_type": "markdown",
   "metadata": {}
  },
  {
   "cell_type": "code",
   "execution_count": 11,
   "metadata": {},
   "outputs": [
    {
     "output_type": "execute_result",
     "data": {
      "text/plain": [
       "'perspective_transformed/category2/1-14-A8CB1-23-09_24_21_23_15.png'"
      ]
     },
     "metadata": {},
     "execution_count": 11
    }
   ],
   "source": [
    "# copy from 'dir/' to 'perspective_transformed/category2/'\n",
    "shutil.copyfile(\"dir/\"+paths[4000].split('.')[0]+'.png', 'perspective_transformed/category2/'+paths[4000].split('.')[0]+'.png')"
   ]
  },
  {
   "source": [
    "## record each category"
   ],
   "cell_type": "markdown",
   "metadata": {}
  },
  {
   "cell_type": "code",
   "execution_count": 100,
   "metadata": {},
   "outputs": [],
   "source": [
    "with open(\"classification.csv\",'a') as f:\n",
    "    f.write(paths[4000].split('.')[0]+',category2\\n')"
   ]
  },
  {
   "source": [
    "# deploy this tool on all the images"
   ],
   "cell_type": "markdown",
   "metadata": {}
  },
  {
   "cell_type": "code",
   "execution_count": 13,
   "metadata": {},
   "outputs": [],
   "source": [
    "for file in paths:\n",
    "    name = file.split('.')[0]\n",
    "    \n",
    "    with open(\"ann/\"+file, 'r') as f1:\n",
    "        data = json.load(f1)\n",
    "        \n",
    "    crack = 0\n",
    "    oxygen = 0\n",
    "    intra = 0\n",
    "\n",
    "    for defect in data[\"objects\"]:\n",
    "        if defect[\"classTitle\"] == \"crack_bbox_yolo\":\n",
    "            crack += 1\n",
    "        elif defect[\"classTitle\"] == \"oxygen_bbox_yolo\":\n",
    "            oxygen += 1\n",
    "        elif defect[\"classTitle\"] == \"intra_bbox_yolo\":\n",
    "            intra += 1\n",
    "    \n",
    "    if crack <= 1 and oxygen == 0 and intra == 0:\n",
    "        with open(\"classification.csv\",'a') as f2:\n",
    "            f2.write(name+',category1\\n')\n",
    "            \n",
    "        shutil.copyfile(\"../../../masks_array7+8_no_bg/upload2/perspective_all/\"+name+'.png', 'perspective_transformed/category1/'+name+'.png')\n",
    "        shutil.copyfile(\"../../../upload2/\"+name+'.png', 'original/category1/'+name+'.png')\n",
    "    elif (crack > 1 or oxygen > 0) and intra == 0:\n",
    "        with open(\"classification.csv\",'a') as f2:\n",
    "            f2.write(name+',category2\\n')\n",
    "        \n",
    "        shutil.copyfile(\"../../../masks_array7+8_no_bg/upload2/perspective_all/\"+name+'.png', 'perspective_transformed/category2/'+name+'.png')\n",
    "        shutil.copyfile(\"../../../upload2/\"+name+'.png', 'original/category2/'+name+'.png')\n",
    "    elif intra > 0:\n",
    "        with open(\"classification.csv\",'a') as f2:\n",
    "            f2.write(name+',category3\\n')\n",
    "        \n",
    "        shutil.copyfile(\"../../../masks_array7+8_no_bg/upload2/perspective_all/\"+name+'.png', 'perspective_transformed/category3/'+name+'.png')\n",
    "        shutil.copyfile(\"../../../upload2/\"+name+'.png', 'original/category3/'+name+'.png')"
   ]
  }
 ],
 "metadata": {
  "kernelspec": {
   "display_name": "pytorch",
   "language": "python",
   "name": "pytorch_env"
  },
  "language_info": {
   "codemirror_mode": {
    "name": "ipython",
    "version": 3
   },
   "file_extension": ".py",
   "mimetype": "text/x-python",
   "name": "python",
   "nbconvert_exporter": "python",
   "pygments_lexer": "ipython3",
   "version": "3.8.5-final"
  },
  "latex_envs": {
   "LaTeX_envs_menu_present": true,
   "autoclose": false,
   "autocomplete": true,
   "bibliofile": "biblio.bib",
   "cite_by": "apalike",
   "current_citInitial": 1,
   "eqLabelWithNumbers": true,
   "eqNumInitial": 1,
   "hotkeys": {
    "equation": "Ctrl-E",
    "itemize": "Ctrl-I"
   },
   "labels_anchors": false,
   "latex_user_defs": false,
   "report_style_numbering": false,
   "user_envs_cfg": false
  }
 },
 "nbformat": 4,
 "nbformat_minor": 2
}