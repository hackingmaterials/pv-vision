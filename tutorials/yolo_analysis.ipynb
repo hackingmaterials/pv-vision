{
 "cells": [
  {
   "cell_type": "code",
   "execution_count": null,
   "metadata": {},
   "outputs": [],
   "source": [
    "import os\n",
    "from pathlib import Path\n",
    "from tqdm import tqdm\n",
    "import pandas as pd\n",
    "import seaborn as sns\n",
    "\n",
    "import pv_vision.defective_cell_detection.result_analysis as analysis"
   ]
  },
  {
   "cell_type": "markdown",
   "metadata": {},
   "source": [
    "# Get labels from YOLO annotations"
   ]
  },
  {
   "cell_type": "code",
   "execution_count": null,
   "metadata": {},
   "outputs": [],
   "source": [
    "# collect the true labels in the training set\n",
    "train_dir = Path('grayscale_train/train')\n",
    "train_anns = os.listdir(train_dir/'ann')\n",
    "\n",
    "label2defect = {\n",
    "    \"crack_bbox\": \"crack\", \n",
    "    \"oxygen_bbox\": \"oxygen\", \n",
    "    \"solder_bbox\": \"solder\", \n",
    "    \"intra_bbox\": \"intra\"\n",
    "    }\n",
    "\n",
    "train_cells_info = {\n",
    "    'module_name': [],\n",
    "    'index': [],\n",
    "    'labels_true': [],\n",
    "    'x': [],\n",
    "    'y': [],\n",
    "}\n",
    "\n",
    "for file in tqdm(train_anns):\n",
    "    cells_info = analysis.collect_all_cells(train_dir/'ann'/file, labels_true = label2defect)\n",
    "    for key, value in cells_info.items():\n",
    "        train_cells_info[key] += value\n",
    "\n",
    "train_cells_info = pd.DataFrame(train_cells_info)\n",
    "train_cells_info.head()"
   ]
  },
  {
   "cell_type": "code",
   "execution_count": null,
   "metadata": {},
   "outputs": [],
   "source": [
    "# check the distribution of each class \n",
    "train_cells_info.groupby('labels_true').size()"
   ]
  },
  {
   "cell_type": "code",
   "execution_count": null,
   "metadata": {},
   "outputs": [],
   "source": [
    "# sometimes people just want to get the information of defects (exclude intact)\n",
    "\n",
    "defects_info = {\n",
    "    'module_name': [],\n",
    "    'index': [],\n",
    "    'defects': [],\n",
    "    'x': [],\n",
    "    'y': []\n",
    "}\n",
    "\n",
    "for ann_file in tqdm(train_anns):\n",
    "    defects_info = analysis.collect_defects(train_dir/\"ann\"/ann_file, defects_info, label2defect, mode=0)\n",
    "\n",
    "train_defects = pd.DataFrame(defects_info)\n",
    "train_defects.head()"
   ]
  },
  {
   "cell_type": "code",
   "execution_count": null,
   "metadata": {},
   "outputs": [],
   "source": [
    "# Sometimes people just want to get the label list to compare prediction and ground truth. \n",
    "# The ground truth and prediction may be stored in separate files\n",
    "\n",
    "manual_val_dir = Path('grayscale_val/val/ann/')\n",
    "yolo_val_dir = Path('prediction_val_grayscale_yolo_0.65/val/ann')\n",
    "ann_files_val = os.listdir(manual_val_dir)\n",
    "\n",
    "# mapping labels to digit. Intact is denoted as 1 here. \n",
    "defects_dic_manual = {\n",
    "        'crack_bbox': 0,\n",
    "        'solder_bbox': 4,\n",
    "        'intra_bbox': 2,\n",
    "        'oxygen_bbox': 3\n",
    "\n",
    "    }\n",
    "\n",
    "defects_dic_yolo = {\n",
    "        'crack_bbox_yolo': 0,\n",
    "        'solder_bbox_yolo': 4,\n",
    "        'intra_bbox_yolo': 2,\n",
    "        'oxygen_bbox_yolo': 3\n",
    "    }\n",
    "\n",
    "yolo_manual_y_val = []\n",
    "yolo_pred_y_val = []\n",
    "\n",
    "for ann_file in tqdm(ann_files_val):\n",
    "    yolo_manual_y_val += list(analysis.get_label_one_module(manual_val_dir/ann_file, defects_dic_manual, fill_label=1))\n",
    "    yolo_pred_y_val += list(analysis.get_label_one_module(yolo_val_dir/ann_file, defects_dic_yolo, fill_label=1))\n",
    "\n",
    "# Further analysis like metric reports can be found in the tutorial of random forest"
   ]
  },
  {
   "cell_type": "code",
   "execution_count": null,
   "metadata": {},
   "outputs": [],
   "source": [
    "yolo_manual_y_val[:10], yolo_pred_y_val[:10]"
   ]
  },
  {
   "cell_type": "markdown",
   "metadata": {},
   "source": [
    "# position distribution"
   ]
  },
  {
   "cell_type": "code",
   "execution_count": null,
   "metadata": {},
   "outputs": [],
   "source": [
    "# Use defects dataframe to plot the distribution of defects\n",
    "# here use \"crack\" as an example, you can also use other defect name\n",
    "\n",
    "train_pv = analysis.plot_heatmap(train_defects, \"crack\", linewidths=0.3, cbar_size=0.8)"
   ]
  }
 ],
 "metadata": {
  "interpreter": {
   "hash": "f4080700e573899fc63e7d3787ad8d019467046cf1e1a46e1ffb125d1e176d46"
  },
  "kernelspec": {
   "display_name": "Python 3.8.2 64-bit ('pytorch_env': conda)",
   "name": "python3"
  },
  "language_info": {
   "codemirror_mode": {
    "name": "ipython",
    "version": 3
   },
   "file_extension": ".py",
   "mimetype": "text/x-python",
   "name": "python",
   "nbconvert_exporter": "python",
   "pygments_lexer": "ipython3",
   "version": "3.8.12"
  },
  "orig_nbformat": 4
 },
 "nbformat": 4,
 "nbformat_minor": 2
}
