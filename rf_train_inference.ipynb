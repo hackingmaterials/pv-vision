{
 "cells": [
  {
   "cell_type": "code",
   "execution_count": 1,
   "source": [
    "import numpy as np \n",
    "import cv2 as cv\n",
    "import os \n",
    "from pathlib import Path\n",
    "from imutils.paths import list_images\n",
    "from sklearn.preprocessing import LabelEncoder\n",
    "from tqdm import tqdm\n",
    "import joblib\n",
    "\n",
    "import pv_vision.model.classifier.rf_train_val as rf_tool"
   ],
   "outputs": [],
   "metadata": {}
  },
  {
   "cell_type": "markdown",
   "source": [
    "# Load the data\n",
    "Folder structure is: \\\n",
    ". \\\n",
    "|-- rf_train_inference.ipynb \\\n",
    "|-- segmented_cells \\\n",
    "....|-- train \\\n",
    "....|...|-- class 1 \\\n",
    "....|...|-- class 2 \\\n",
    "....|...|-- class ... \\\n",
    "....|...\\`-- class n \\\n",
    "....|-- val \\\n",
    "....|...|-- class 1 \\\n",
    "....|...|-- class 2 \\\n",
    "....|...|-- class ... \\\n",
    "....|...\\`-- class n \\\n",
    "....\\`-- test \\\n",
    "........|-- class 1 \\\n",
    "........|-- class 2 \\\n",
    "........|-- class ... \\\n",
    "........`-- class n \n",
    "\n"
   ],
   "metadata": {}
  },
  {
   "cell_type": "code",
   "execution_count": null,
   "source": [
    "# load training data\n",
    "images_train = []\n",
    "names_train = []\n",
    "labels_train = []\n",
    "\n",
    "for im_path in list(list_images('segmented_cells/train')):\n",
    "    images_train.append(cv.imread(im_path, cv.IMREAD_UNCHANGED))\n",
    "    labels_train.append(im_path.split('/')[-2])\n",
    "    names_train.append(os.path.splitext(os.path.split(im_path)[-1])[0])\n",
    "\n",
    "# load val + test data\n",
    "images_val = []\n",
    "names_val = []\n",
    "labels_val = []\n",
    "\n",
    "images_test = []\n",
    "names_test = []\n",
    "labels_test = []\n",
    "\n",
    "for im_path in list(list_images('segmented_cells/val')):\n",
    "    images_val.append(cv.imread(im_path, cv.IMREAD_UNCHANGED))\n",
    "    labels_val.append(im_path.split('/')[-2])\n",
    "    names_val.append(os.path.splitext(os.path.split(im_path)[-1])[0])\n",
    "\n",
    "for im_path in list(list_images('segmented_cells/test')):\n",
    "    images_test.append(cv.imread(im_path, cv.IMREAD_UNCHANGED))\n",
    "    labels_test.append(im_path.split('/')[-2])\n",
    "    names_test.append(os.path.splitext(os.path.split(im_path)[-1])[0])\n",
    "\n",
    "images_train = np.array(images_train)\n",
    "images_val = np.array(images_val)\n",
    "images_test = np.array(images_test)\n",
    "\n",
    "# transform labels into integers\n",
    "le = LabelEncoder()\n",
    "le.fit(labels_train)\n",
    "\n",
    "y_train = le.transform(labels_train)\n",
    "y_val = le.transform(labels_val)\n",
    "y_test = le.transform(labels_test)"
   ],
   "outputs": [],
   "metadata": {}
  },
  {
   "cell_type": "markdown",
   "source": [
    "# Model training"
   ],
   "metadata": {}
  },
  {
   "cell_type": "code",
   "execution_count": null,
   "source": [
    "# convert to grayscale if original image is 3 channel grayscale \n",
    "#images_train_g = np.array([image[:, :, 0] for image in images_train])\n",
    "#images_val_g = np.array([image[:, :, 0] for image in images_val])\n",
    "#images_test_g = np.array([image[:, :, 0] for image in images_test])\n",
    "\n",
    "# augment the training set\n",
    "images_train_aug, y_train_aug = rf_tool.im_aug(images_train, y_train)"
   ],
   "outputs": [],
   "metadata": {}
  },
  {
   "cell_type": "code",
   "execution_count": null,
   "source": [
    "# hyperparameters for tuning\n",
    "rf_para_grid = {\n",
    "    'n_estimators': [10, 20, 30, 40, 50, 80, 100, 200, 400, 1000],\n",
    "    'criterion': ['gini', 'entropy'],\n",
    "    'max_depth': [10, 20, 40, 60, 80, 100, None],\n",
    "    'bootstrap': [True, False]\n",
    "}\n",
    "\n",
    "# hyperparameters tuning in 50 iterations. Return the model with best macro F1 score on val set\n",
    "rf_best, para_best, score_best = rf_tool.random_search_rf(images_train_aug, y_train_aug, images_val, y_val, 50, rf_para_grid)"
   ],
   "outputs": [],
   "metadata": {}
  },
  {
   "cell_type": "code",
   "execution_count": null,
   "source": [
    "# save the model and optimal parameters\n",
    "os.makedirs('RF', exist_ok=True)\n",
    "joblib.dump(rf_best, 'RF/rf_aug_model.pkl')\n",
    "joblib.dump(para_best, 'RF/rf_best_para.pkl')"
   ],
   "outputs": [],
   "metadata": {}
  },
  {
   "cell_type": "markdown",
   "source": [
    "# Evaluation & Inference"
   ],
   "metadata": {}
  },
  {
   "cell_type": "code",
   "execution_count": 4,
   "source": [
    "import pv_vision.model.classifier.result_analysis as analysis\n",
    "import pickle\n",
    "from sklearn import preprocessing"
   ],
   "outputs": [],
   "metadata": {}
  },
  {
   "cell_type": "code",
   "execution_count": null,
   "source": [
    "# load model\n",
    "rf_fit = joblib.load('RF/rf_aug_model.pkl')\n",
    "\n",
    "# define save path\n",
    "save_path = Path('RF')/'results'\n",
    "os.makedirs(save_path, exist_ok=True)\n",
    "\n",
    "# Do prediction on testing set\n",
    "X_test = rf_tool.im_flatten(images_test)\n",
    "pred_test = rf_fit.predict(X_test)\n",
    "\n",
    "# This can output the probability of each class\n",
    "#prob_test = model_fit.predict_proba(X_test)"
   ],
   "outputs": [],
   "metadata": {}
  },
  {
   "cell_type": "code",
   "execution_count": null,
   "source": [
    "# save wrongly predicted\n",
    "failed = analysis.predict_failed(y_test, pred_test, images_test)\n",
    "with open(save_path/'rf_failed.pkl', 'wb') as f:\n",
    "    pickle.dump(failed, f)"
   ],
   "outputs": [],
   "metadata": {}
  },
  {
   "cell_type": "code",
   "execution_count": null,
   "source": [
    "# Mapping the value of y into label names.\n",
    "defect_name = {\n",
    "    0: 'crack',\n",
    "    1: 'intact',\n",
    "    2: 'intra',\n",
    "    3: 'oxygen',\n",
    "    4: 'solder'\n",
    "}\n",
    "\n",
    "# confusion matrix\n",
    "analysis.draw_cm(defect_name, y_true=y_test, y_pred=pred_test)"
   ],
   "outputs": [],
   "metadata": {}
  },
  {
   "cell_type": "code",
   "execution_count": 6,
   "source": [
    "# metrics report\n",
    "test_report = analysis.metrics_report(y_test, pred_test,\n",
    "                                      label_names=['crack', 'intact', 'intra', 'oxygen', 'solder'])\n",
    "\n",
    "test_report.to_pickle(save_path/'rf_test_report.pkl')"
   ],
   "outputs": [],
   "metadata": {}
  },
  {
   "cell_type": "code",
   "execution_count": null,
   "source": [
    "# save the prediction\n",
    "# no need to save ground truth when you do prediction on unlabelled images\n",
    "le = preprocessing.LabelEncoder()\n",
    "le.fit(['crack', 'intact', 'intra', 'oxygen', 'solder'])\n",
    "\n",
    "with open(save_path/'rf_predicted.pkl', 'wb') as f:\n",
    "    pickle.dump({'name': np.array(names_test), \n",
    "                'defects_pred': le.inverse_transform(pred_test),\n",
    "                'defects_true': le.inverse_transform(y_test),\n",
    "                'y_pred': np.array(pred_test),\n",
    "                'y_true': np.array(y_test)}, f)\n"
   ],
   "outputs": [],
   "metadata": {}
  }
 ],
 "metadata": {
  "orig_nbformat": 4,
  "language_info": {
   "name": "python",
   "version": "3.8.2",
   "mimetype": "text/x-python",
   "codemirror_mode": {
    "name": "ipython",
    "version": 3
   },
   "pygments_lexer": "ipython3",
   "nbconvert_exporter": "python",
   "file_extension": ".py"
  },
  "kernelspec": {
   "name": "python3",
   "display_name": "Python 3.8.2 64-bit ('pytorch_env': conda)"
  },
  "interpreter": {
   "hash": "f4080700e573899fc63e7d3787ad8d019467046cf1e1a46e1ffb125d1e176d46"
  }
 },
 "nbformat": 4,
 "nbformat_minor": 2
}